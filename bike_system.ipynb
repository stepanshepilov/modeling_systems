{
 "cells": [
  {
   "cell_type": "code",
   "execution_count": 1,
   "id": "608e6605-4d1b-42b5-b247-bb4b53305e0d",
   "metadata": {},
   "outputs": [
    {
     "name": "stdout",
     "output_type": "stream",
     "text": [
      "Collecting modsimpy\n",
      "  Downloading modsimpy-1.1.3.tar.gz (19 kB)\n",
      "Building wheels for collected packages: modsimpy\n",
      "  Building wheel for modsimpy (setup.py): started\n",
      "  Building wheel for modsimpy (setup.py): finished with status 'done'\n",
      "  Created wheel for modsimpy: filename=modsimpy-1.1.3-py3-none-any.whl size=20417 sha256=3ccbab5150474be4da44c74ace5f86fcd01b3d85b037c0dd60f8802bc1c11b86\n",
      "  Stored in directory: c:\\users\\shepi\\appdata\\local\\pip\\cache\\wheels\\3a\\21\\22\\b652cf3a4fc674c3377fdeb77da04bba02954a4ea5abe331be\n",
      "Successfully built modsimpy\n",
      "Installing collected packages: modsimpy\n",
      "Successfully installed modsimpy-1.1.3\n"
     ]
    },
    {
     "name": "stderr",
     "output_type": "stream",
     "text": [
      "WARNING: The candidate selected for download or install is a yanked version: 'modsimpy' candidate (version 1.1.3 at https://files.pythonhosted.org/packages/ee/ef/c170df0ee5311cda90a10fc71d1610b9a1cb2241fadbf04bf0f57ff161e9/modsimpy-1.1.3.tar.gz#sha256=5ea3a5f5d749d647fac19965afccbb6155a3b41b72b05b0324cb2023d396df50 (from https://pypi.org/simple/modsimpy/))\n",
      "Reason for being yanked: Installing modsimpy with pip is no longer recommended. Instead, please use the instructions in the notebooks to download the latest version of modsim.py and import it. You don't have to install it as a package, and it is not recommended that you do.\n",
      "WARNING: You are using pip version 21.2.4; however, version 24.1 is available.\n",
      "You should consider upgrading via the 'C:\\Users\\Shepi\\AppData\\Local\\Programs\\Python\\Python310\\python.exe -m pip install --upgrade pip' command.\n"
     ]
    }
   ],
   "source": [
    "import sys\n",
    "!{sys.executable} -m pip install modsimpy"
   ]
  },
  {
   "cell_type": "code",
   "execution_count": 5,
   "id": "73536adf-535f-49cd-99dd-7e4ef6d67761",
   "metadata": {},
   "outputs": [
    {
     "name": "stdout",
     "output_type": "stream",
     "text": [
      "Collecting sympy\n",
      "  Downloading sympy-1.12.1-py3-none-any.whl (5.7 MB)\n",
      "Collecting mpmath<1.4.0,>=1.1.0\n",
      "  Using cached mpmath-1.3.0-py3-none-any.whl (536 kB)\n",
      "Installing collected packages: mpmath, sympy\n",
      "Successfully installed mpmath-1.3.0 sympy-1.12.1\n"
     ]
    },
    {
     "name": "stderr",
     "output_type": "stream",
     "text": [
      "WARNING: You are using pip version 21.2.4; however, version 24.1 is available.\n",
      "You should consider upgrading via the 'C:\\Users\\Shepi\\AppData\\Local\\Programs\\Python\\Python310\\python.exe -m pip install --upgrade pip' command.\n"
     ]
    }
   ],
   "source": [
    "import sys\n",
    "!{sys.executable} -m pip install sympy"
   ]
  },
  {
   "cell_type": "code",
   "execution_count": 7,
   "id": "61903b58-8984-402a-95f0-3d085aa7cfec",
   "metadata": {},
   "outputs": [
    {
     "name": "stdout",
     "output_type": "stream",
     "text": [
      "Collecting pint\n",
      "  Downloading Pint-0.24.1-py3-none-any.whl (301 kB)\n",
      "Requirement already satisfied: typing-extensions in c:\\users\\shepi\\appdata\\local\\programs\\python\\python310\\lib\\site-packages (from pint) (4.8.0)\n",
      "Collecting appdirs>=1.4.4\n",
      "  Downloading appdirs-1.4.4-py2.py3-none-any.whl (9.6 kB)\n",
      "Collecting flexparser>=0.3\n",
      "  Downloading flexparser-0.3.1-py3-none-any.whl (27 kB)\n",
      "Collecting flexcache>=0.3\n",
      "  Downloading flexcache-0.3-py3-none-any.whl (13 kB)\n",
      "Installing collected packages: flexparser, flexcache, appdirs, pint\n",
      "Successfully installed appdirs-1.4.4 flexcache-0.3 flexparser-0.3.1 pint-0.24.1\n"
     ]
    },
    {
     "name": "stderr",
     "output_type": "stream",
     "text": [
      "WARNING: You are using pip version 21.2.4; however, version 24.1 is available.\n",
      "You should consider upgrading via the 'C:\\Users\\Shepi\\AppData\\Local\\Programs\\Python\\Python310\\python.exe -m pip install --upgrade pip' command.\n"
     ]
    }
   ],
   "source": [
    "import sys\n",
    "!{sys.executable} -m pip install pint"
   ]
  },
  {
   "cell_type": "code",
   "execution_count": 8,
   "id": "f11356d2-bf74-4288-8b7b-467dc189e039",
   "metadata": {},
   "outputs": [],
   "source": [
    "from modsim import State"
   ]
  },
  {
   "cell_type": "code",
   "execution_count": 9,
   "id": "a68fdfe2-46f3-42d1-b8f1-8856f87beac8",
   "metadata": {},
   "outputs": [],
   "source": [
    "bikeshare = State(olin=10, wellesley=2)"
   ]
  },
  {
   "cell_type": "code",
   "execution_count": 10,
   "id": "f855d4fe-c088-4b5e-80e3-ab25068d133a",
   "metadata": {},
   "outputs": [
    {
     "data": {
      "text/plain": [
       "10"
      ]
     },
     "execution_count": 10,
     "metadata": {},
     "output_type": "execute_result"
    }
   ],
   "source": [
    "bikeshare.olin"
   ]
  },
  {
   "cell_type": "code",
   "execution_count": 14,
   "id": "172bf337-f24c-4946-bfdc-7887480d6dd5",
   "metadata": {},
   "outputs": [
    {
     "data": {
      "text/plain": [
       "modsim.modsim.State"
      ]
     },
     "execution_count": 14,
     "metadata": {},
     "output_type": "execute_result"
    }
   ],
   "source": [
    "type(bikeshare)"
   ]
  },
  {
   "cell_type": "code",
   "execution_count": 16,
   "id": "c879b3e7-2578-46d3-bba0-3bb1c2624000",
   "metadata": {},
   "outputs": [],
   "source": [
    "def bike_to_w():\n",
    "    print('Moving bike to Wellesley')\n",
    "    bikeshare.olin -= 1\n",
    "    bikeshare.wellesley += 1"
   ]
  },
  {
   "cell_type": "code",
   "execution_count": 17,
   "id": "08e4c230-1155-4c4e-bb79-773bca22e0a1",
   "metadata": {},
   "outputs": [],
   "source": [
    "def bike_to_o():\n",
    "    print('Moving bike to Olin')\n",
    "    bikeshare.wellesley -= 1\n",
    "    bikeshare.olin += 1"
   ]
  },
  {
   "cell_type": "code",
   "execution_count": 24,
   "id": "c6741843-ad5f-40c5-8798-5a8fad2c8d72",
   "metadata": {},
   "outputs": [
    {
     "name": "stdout",
     "output_type": "stream",
     "text": [
      "Moving bike to Wellesley\n"
     ]
    }
   ],
   "source": [
    "from modsim import flip\n",
    "if flip(0.5):\n",
    "    bike_to_w()"
   ]
  },
  {
   "cell_type": "code",
   "execution_count": 25,
   "id": "1a4571c5-e1c7-4c86-adea-3f0339852473",
   "metadata": {},
   "outputs": [],
   "source": [
    "def step():\n",
    "    if flip(0.5):\n",
    "        bike_to_w()\n",
    "    if flip(0.33):\n",
    "        bike_to_o()"
   ]
  },
  {
   "cell_type": "code",
   "execution_count": 31,
   "id": "3d1103e1-5991-4425-9636-0d20c2fd7068",
   "metadata": {},
   "outputs": [
    {
     "name": "stdout",
     "output_type": "stream",
     "text": [
      "Moving bike to Wellesley\n"
     ]
    }
   ],
   "source": [
    "step()"
   ]
  },
  {
   "cell_type": "code",
   "execution_count": 33,
   "id": "7c8ebc6d-3d68-475c-ae87-25f8e8947498",
   "metadata": {},
   "outputs": [],
   "source": [
    "from modsim import TimeSeries\n",
    "bikeshare = State(olin=10, wellesley=2)\n",
    "results = TimeSeries()"
   ]
  },
  {
   "cell_type": "code",
   "execution_count": 34,
   "id": "99f64e20-792f-4c9d-aa0c-25d99138f39f",
   "metadata": {},
   "outputs": [],
   "source": [
    "results[0] = (bikeshare.olin, bikeshare.wellesley)"
   ]
  },
  {
   "cell_type": "code",
   "execution_count": 35,
   "id": "b3fa058b-adaf-414d-8151-a524354c44a7",
   "metadata": {},
   "outputs": [
    {
     "name": "stdout",
     "output_type": "stream",
     "text": [
      "Moving bike to Olin\n",
      "Moving bike to Wellesley\n",
      "Moving bike to Olin\n",
      "Moving bike to Wellesley\n",
      "Moving bike to Wellesley\n",
      "Moving bike to Wellesley\n",
      "Moving bike to Olin\n",
      "Moving bike to Olin\n",
      "Moving bike to Wellesley\n",
      "Moving bike to Wellesley\n"
     ]
    }
   ],
   "source": [
    "for i in range(10):\n",
    "    step()\n",
    "    results[i+1] = (bikeshare.olin, bikeshare.wellesley)"
   ]
  },
  {
   "cell_type": "code",
   "execution_count": 36,
   "id": "795f529a-caec-4bf4-a6e9-09cdbe0dc327",
   "metadata": {},
   "outputs": [
    {
     "data": {
      "text/html": [
       "<div>\n",
       "<style scoped>\n",
       "    .dataframe tbody tr th:only-of-type {\n",
       "        vertical-align: middle;\n",
       "    }\n",
       "\n",
       "    .dataframe tbody tr th {\n",
       "        vertical-align: top;\n",
       "    }\n",
       "\n",
       "    .dataframe thead th {\n",
       "        text-align: right;\n",
       "    }\n",
       "</style>\n",
       "<table border=\"1\" class=\"dataframe\">\n",
       "  <thead>\n",
       "    <tr style=\"text-align: right;\">\n",
       "      <th></th>\n",
       "      <th>values</th>\n",
       "    </tr>\n",
       "  </thead>\n",
       "  <tbody>\n",
       "    <tr>\n",
       "      <th>0</th>\n",
       "      <td>(10, 2)</td>\n",
       "    </tr>\n",
       "    <tr>\n",
       "      <th>1</th>\n",
       "      <td>(11, 1)</td>\n",
       "    </tr>\n",
       "    <tr>\n",
       "      <th>2</th>\n",
       "      <td>(11, 1)</td>\n",
       "    </tr>\n",
       "    <tr>\n",
       "      <th>3</th>\n",
       "      <td>(11, 1)</td>\n",
       "    </tr>\n",
       "    <tr>\n",
       "      <th>4</th>\n",
       "      <td>(11, 1)</td>\n",
       "    </tr>\n",
       "    <tr>\n",
       "      <th>5</th>\n",
       "      <td>(10, 2)</td>\n",
       "    </tr>\n",
       "    <tr>\n",
       "      <th>6</th>\n",
       "      <td>(9, 3)</td>\n",
       "    </tr>\n",
       "    <tr>\n",
       "      <th>7</th>\n",
       "      <td>(9, 3)</td>\n",
       "    </tr>\n",
       "    <tr>\n",
       "      <th>8</th>\n",
       "      <td>(10, 2)</td>\n",
       "    </tr>\n",
       "    <tr>\n",
       "      <th>9</th>\n",
       "      <td>(9, 3)</td>\n",
       "    </tr>\n",
       "    <tr>\n",
       "      <th>10</th>\n",
       "      <td>(8, 4)</td>\n",
       "    </tr>\n",
       "  </tbody>\n",
       "</table>\n",
       "</div>"
      ],
      "text/plain": [
       "0     (10, 2)\n",
       "1     (11, 1)\n",
       "2     (11, 1)\n",
       "3     (11, 1)\n",
       "4     (11, 1)\n",
       "5     (10, 2)\n",
       "6      (9, 3)\n",
       "7      (9, 3)\n",
       "8     (10, 2)\n",
       "9      (9, 3)\n",
       "10     (8, 4)\n",
       "dtype: object"
      ]
     },
     "execution_count": 36,
     "metadata": {},
     "output_type": "execute_result"
    }
   ],
   "source": [
    "results"
   ]
  },
  {
   "cell_type": "code",
   "execution_count": 37,
   "id": "3671990d-40ac-4d9d-9c51-489d89de9835",
   "metadata": {},
   "outputs": [
    {
     "data": {
      "image/png": "[encoded data removed]",
      "text/plain": [
       "<Figure size 432x288 with 1 Axes>"
      ]
     },
     "metadata": {},
     "output_type": "display_data"
    }
   ],
   "source": [
    "results.plot()"
   ]
  },
  {
   "cell_type": "code",
   "execution_count": null,
   "id": "21c744ba-6ff4-4d6c-80f1-d028b91141f1",
   "metadata": {},
   "outputs": [],
   "source": []
  }
 ],
 "metadata": {
  "kernelspec": {
   "display_name": "Python 3 (ipykernel)",
   "language": "python",
   "name": "python3"
  },
  "language_info": {
   "codemirror_mode": {
    "name": "ipython",
    "version": 3
   },
   "file_extension": ".py",
   "mimetype": "text/x-python",
   "name": "python",
   "nbconvert_exporter": "python",
   "pygments_lexer": "ipython3",
   "version": "3.10.2"
  }
 },
 "nbformat": 4,
 "nbformat_minor": 5
}
