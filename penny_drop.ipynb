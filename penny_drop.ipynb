{
 "cells": [
  {
   "cell_type": "code",
   "execution_count": 2,
   "id": "0364a65c-b01a-4678-a545-3c75ee9e0c88",
   "metadata": {},
   "outputs": [
    {
     "name": "stdout",
     "output_type": "stream",
     "text": [
      "Collecting simpy\n",
      "  Downloading simpy-4.1.1-py3-none-any.whl (27 kB)\n",
      "Installing collected packages: simpy\n",
      "Successfully installed simpy-4.1.1\n"
     ]
    },
    {
     "name": "stderr",
     "output_type": "stream",
     "text": [
      "WARNING: You are using pip version 21.2.4; however, version 24.1 is available.\n",
      "You should consider upgrading via the 'C:\\Users\\Shepi\\AppData\\Local\\Programs\\Python\\Python310\\python.exe -m pip install --upgrade pip' command.\n"
     ]
    }
   ],
   "source": [
    "import sys\n",
    "!{sys.executable} -m pip install simpy"
   ]
  },
  {
   "cell_type": "code",
   "execution_count": 3,
   "id": "f5263993-5b95-4f0c-a7cd-7675dc746aa0",
   "metadata": {},
   "outputs": [],
   "source": [
    "# using formula v = gt, g=9.8\n",
    "g = 9.8\n",
    "t = 9"
   ]
  },
  {
   "cell_type": "code",
   "execution_count": 4,
   "id": "fe27d931-549d-4bae-b37b-61cfd4616c2d",
   "metadata": {},
   "outputs": [
    {
     "data": {
      "text/plain": [
       "88.2"
      ]
     },
     "execution_count": 4,
     "metadata": {},
     "output_type": "execute_result"
    }
   ],
   "source": [
    "v = g*t\n",
    "v"
   ]
  },
  {
   "cell_type": "code",
   "execution_count": 5,
   "id": "7aad6c76-4de6-4a3f-9ac7-5e75dc99f393",
   "metadata": {},
   "outputs": [
    {
     "data": {
      "text/plain": [
       "396.90000000000003"
      ]
     },
     "execution_count": 5,
     "metadata": {},
     "output_type": "execute_result"
    }
   ],
   "source": [
    "x = g*t*t/2\n",
    "x"
   ]
  },
  {
   "cell_type": "code",
   "execution_count": 6,
   "id": "36625d11-317b-4c09-93fc-f18c05315250",
   "metadata": {},
   "outputs": [],
   "source": [
    "def penny_drop(time):\n",
    "    speed = g*time\n",
    "    path = (g*time**2)/2\n",
    "    print('Скорость в конце пути: {}'.format(speed))\n",
    "    print('Пройденный путь: {}'.format(path))"
   ]
  },
  {
   "cell_type": "code",
   "execution_count": 7,
   "id": "e23cb0c2-88b3-478e-8108-2d339a6a453d",
   "metadata": {},
   "outputs": [
    {
     "name": "stdout",
     "output_type": "stream",
     "text": [
      "Скорость в конце пути: 9.8\n",
      "Пройденный путь: 4.9\n",
      "Скорость в конце пути: 19.6\n",
      "Пройденный путь: 19.6\n",
      "Скорость в конце пути: 29.400000000000002\n",
      "Пройденный путь: 44.1\n",
      "Скорость в конце пути: 39.2\n",
      "Пройденный путь: 78.4\n",
      "Скорость в конце пути: 49.0\n",
      "Пройденный путь: 122.50000000000001\n",
      "Скорость в конце пути: 58.800000000000004\n",
      "Пройденный путь: 176.4\n",
      "Скорость в конце пути: 68.60000000000001\n",
      "Пройденный путь: 240.10000000000002\n",
      "Скорость в конце пути: 78.4\n",
      "Пройденный путь: 313.6\n",
      "Скорость в конце пути: 88.2\n",
      "Пройденный путь: 396.90000000000003\n",
      "Скорость в конце пути: 98.0\n",
      "Пройденный путь: 490.00000000000006\n",
      "Скорость в конце пути: 107.80000000000001\n",
      "Пройденный путь: 592.9000000000001\n",
      "Скорость в конце пути: 117.60000000000001\n",
      "Пройденный путь: 705.6\n",
      "Скорость в конце пути: 127.4\n",
      "Пройденный путь: 828.1\n",
      "Скорость в конце пути: 137.20000000000002\n",
      "Пройденный путь: 960.4000000000001\n",
      "Скорость в конце пути: 147.0\n",
      "Пройденный путь: 1102.5\n",
      "Скорость в конце пути: 156.8\n",
      "Пройденный путь: 1254.4\n",
      "Скорость в конце пути: 166.60000000000002\n",
      "Пройденный путь: 1416.1000000000001\n",
      "Скорость в конце пути: 176.4\n",
      "Пройденный путь: 1587.6000000000001\n",
      "Скорость в конце пути: 186.20000000000002\n",
      "Пройденный путь: 1768.9\n"
     ]
    }
   ],
   "source": [
    "for i in range(1, 20):\n",
    "    penny_drop(i)"
   ]
  },
  {
   "cell_type": "code",
   "execution_count": null,
   "id": "a42ffb8c-990c-4ca0-a3aa-af9ee5daac0c",
   "metadata": {},
   "outputs": [],
   "source": []
  }
 ],
 "metadata": {
  "kernelspec": {
   "display_name": "Python 3 (ipykernel)",
   "language": "python",
   "name": "python3"
  },
  "language_info": {
   "codemirror_mode": {
    "name": "ipython",
    "version": 3
   },
   "file_extension": ".py",
   "mimetype": "text/x-python",
   "name": "python",
   "nbconvert_exporter": "python",
   "pygments_lexer": "ipython3",
   "version": "3.10.2"
  }
 },
 "nbformat": 4,
 "nbformat_minor": 5
}
