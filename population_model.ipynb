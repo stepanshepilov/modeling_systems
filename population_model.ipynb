{
 "cells": [
  {
   "cell_type": "code",
   "execution_count": 1,
   "id": "0c497544-6bc8-4485-abd2-00e98964c0d6",
   "metadata": {},
   "outputs": [],
   "source": [
    "from pandas import read_html"
   ]
  },
  {
   "cell_type": "code",
   "execution_count": 2,
   "id": "2c20061c-4c23-4b4d-a1ec-4c7f978b0d86",
   "metadata": {},
   "outputs": [],
   "source": [
    "filename = 'population.html'\n",
    "tables = read_html(filename,\n",
    "                   header=0,\n",
    "                   index_col=0,\n",
    "                   decimal='M')"
   ]
  },
  {
   "cell_type": "code",
   "execution_count": 3,
   "id": "75ecbfe5-b72e-446c-8d1d-e824cbffec38",
   "metadata": {
    "scrolled": true
   },
   "outputs": [
    {
     "data": {
      "text/plain": [
       "[                              1400       1500       1600       1700  \\\n",
       " Year                                                                  \n",
       " population(in billions)  0.35–0.40  0.43–0.50  0.50–0.58  0.60–0.68   \n",
       " growth p.a.[1]                 >0%     <0.12%  0.15–0.3%  0.1–0.15%   \n",
       " \n",
       "                               1800       1900       2000      2100  \n",
       " Year                                                                \n",
       " population(in billions)  0.89–0.98  1.56–1.71  6.06–6.15  c. 10–13  \n",
       " growth p.a.[1]            0.3–0.5%   0.5–0.6%   1.3–1.4%  0.7–0.8%  ,\n",
       "        PRB(1973–2016)[15]  UN(2015)[16] Maddison(2008)[17] HYDE(2010)[18]  \\\n",
       " Year                                                                        \n",
       " −10000                NaN           NaN                NaN         2M[25]   \n",
       " −9000                 NaN           NaN                NaN             4.   \n",
       " −8000                  5.           NaN                NaN             5.   \n",
       " −7000                  7.           NaN                NaN             8.   \n",
       " −6000                 14.           NaN                NaN            11.   \n",
       " −5000                 27.           NaN                NaN        18M[25]   \n",
       " −4000                 50.           NaN                NaN            28.   \n",
       " −3000                100.           NaN                NaN            45.   \n",
       " −2000                 NaN           NaN                NaN            72.   \n",
       " −1000                100.           NaN                NaN           115.   \n",
       " −500                 150.           NaN                NaN            NaN   \n",
       " −200                 227.           NaN                NaN            NaN   \n",
       " 1                300M[26]         300.0           231M[27]       188M[25]   \n",
       " 100                   NaN           NaN                NaN           195.   \n",
       " 200                   NaN           NaN                NaN           202.   \n",
       " 300                   NaN           NaN                NaN           205.   \n",
       " 350                   NaN           NaN                NaN            NaN   \n",
       " 400                   NaN           NaN                NaN           209.   \n",
       " 500                  280.           NaN                NaN       210M[25]   \n",
       " 600                   NaN           NaN                NaN           213.   \n",
       " 700                   NaN           NaN                NaN           226.   \n",
       " 800                   NaN           NaN                NaN           240.   \n",
       " 900                   NaN           NaN                NaN           269.   \n",
       " 1000                 400.         310.0               267.       295M[25]   \n",
       " 1100                 450.           NaN                NaN           353.   \n",
       " 1200                 500.           NaN                NaN           393.   \n",
       " 1250                  NaN         400.0                NaN            NaN   \n",
       " 1300                 500.           NaN                NaN           392.   \n",
       " 1340                  NaN           NaN                NaN            NaN   \n",
       " 1400                 500.           NaN                NaN           390.   \n",
       " 1500                 600.         500.0               438.       461M[25]   \n",
       " 1600                 600.           NaN               556.       554M[25]   \n",
       " 1650          (<700M)[14]           NaN                NaN            NaN   \n",
       " 1700                 660.           NaN              1000.       603M[25]   \n",
       " 1750                  NaN         791.0                NaN           814.   \n",
       " 1800                1000.         978.0                NaN       989M[25]   \n",
       " 1820                  NaN           NaN              1042.            NaN   \n",
       " 1850                1265.        1262.0                NaN          1263.   \n",
       " 1870                  NaN           NaN              1276.            NaN   \n",
       " 1875                  NaN           NaN                NaN            NaN   \n",
       " 1900                1656.        1650.0              1563.     1,654M[25]   \n",
       " 1910                  NaN        1750.0                NaN          1777.   \n",
       " 1913                  NaN           NaN              1793.            NaN   \n",
       " 1920                  NaN        1860.0              1863.          1912.   \n",
       " 1925                2000.           NaN                NaN            NaN   \n",
       " 1930                  NaN        2070.0                NaN          2092.   \n",
       " 1940                  NaN        2300.0              2299.          2307.   \n",
       " \n",
       "         Tanton(1994)[19]  Biraben(1980)[20]  McEvedy &Jones (1978)[21]  \\\n",
       " Year                                                                     \n",
       " −10000               NaN                NaN                        4.0   \n",
       " −9000                NaN                NaN                        NaN   \n",
       " −8000                NaN                NaN                        NaN   \n",
       " −7000                NaN                NaN                        NaN   \n",
       " −6000                NaN                NaN                        NaN   \n",
       " −5000                NaN                NaN                        5.0   \n",
       " −4000                NaN                NaN                        7.0   \n",
       " −3000                NaN                NaN                       14.0   \n",
       " −2000                NaN                NaN                       27.0   \n",
       " −1000                NaN                NaN                       50.0   \n",
       " −500                 NaN                NaN                        NaN   \n",
       " −200                 NaN                NaN                      150.0   \n",
       " 1                  150.0              255.0                      170.0   \n",
       " 100                  NaN                NaN                        NaN   \n",
       " 200                  NaN              256.0                      190.0   \n",
       " 300                  NaN                NaN                        NaN   \n",
       " 350                  NaN                NaN                        NaN   \n",
       " 400                  NaN              206.0                      190.0   \n",
       " 500                  NaN              206.0                      190.0   \n",
       " 600                  NaN              206.0                      200.0   \n",
       " 700                  NaN              207.0                      210.0   \n",
       " 800                  NaN              224.0                      220.0   \n",
       " 900                  NaN              226.0                      240.0   \n",
       " 1000                 NaN              254.0                      265.0   \n",
       " 1100                 NaN              301.0                      320.0   \n",
       " 1200                 NaN              400.0                      360.0   \n",
       " 1250                 NaN              416.0                        NaN   \n",
       " 1300               300.0              432.0                      360.0   \n",
       " 1340                 NaN              443.0                        NaN   \n",
       " 1400                 NaN              374.0                      350.0   \n",
       " 1500               460.0              425.0                        NaN   \n",
       " 1600                 NaN              579.0                      545.0   \n",
       " 1650                 NaN                NaN                      545.0   \n",
       " 1700              1000.0             1079.0                     1000.0   \n",
       " 1750                 NaN                NaN                        NaN   \n",
       " 1800               900.0                NaN                        NaN   \n",
       " 1820                 NaN                NaN                        NaN   \n",
       " 1850                 NaN             1241.0                     1200.0   \n",
       " 1870                 NaN                NaN                        NaN   \n",
       " 1875                 NaN                NaN                     1325.0   \n",
       " 1900              1600.0             1633.0                     1625.0   \n",
       " 1910                 NaN                NaN                        NaN   \n",
       " 1913                 NaN                NaN                        NaN   \n",
       " 1920                 NaN                NaN                        NaN   \n",
       " 1925                 NaN                NaN                     2000.0   \n",
       " 1930                 NaN                NaN                        NaN   \n",
       " 1940                 NaN                NaN                        NaN   \n",
       " \n",
       "        Thomlinson(1975)[22] Durand(1974)[23] Clark(1967)[24]  Gapminder  \n",
       " Year                                                                     \n",
       " −10000                1–10M              NaN             NaN        4.0  \n",
       " −9000                   NaN              NaN             NaN        NaN  \n",
       " −8000                   NaN            5–10M             NaN        NaN  \n",
       " −7000                   NaN              NaN             NaN        NaN  \n",
       " −6000                   NaN              NaN             NaN        NaN  \n",
       " −5000                 5–20M              NaN             NaN        5.0  \n",
       " −4000                   NaN              NaN             NaN        7.0  \n",
       " −3000                   NaN              NaN             NaN       14.0  \n",
       " −2000                   NaN              NaN             NaN       27.0  \n",
       " −1000                   NaN              NaN             NaN       50.0  \n",
       " −500                    NaN              NaN             NaN        NaN  \n",
       " −200                    NaN              NaN             NaN      150.0  \n",
       " 1                      200.         270–330M        256M[28]      170.0  \n",
       " 100                     NaN              NaN             NaN        NaN  \n",
       " 200                     NaN              NaN             NaN      190.0  \n",
       " 300                     NaN              NaN             NaN        NaN  \n",
       " 350                     NaN              NaN            254.        NaN  \n",
       " 400                     NaN              NaN             NaN      190.0  \n",
       " 500                     NaN              NaN             NaN      190.0  \n",
       " 600                     NaN              NaN            237.      200.0  \n",
       " 700                     NaN              NaN             NaN      207.0  \n",
       " 800                     NaN              NaN            261.      224.0  \n",
       " 900                     NaN              NaN             NaN      226.0  \n",
       " 1000                    NaN         275–345M            280.      254.0  \n",
       " 1100                    NaN              NaN             NaN      301.0  \n",
       " 1200                    NaN              NaN            384.      400.0  \n",
       " 1250                    NaN              NaN             NaN      416.0  \n",
       " 1300                   400.              NaN             NaN      432.0  \n",
       " 1340                    NaN              NaN            378.      443.0  \n",
       " 1400                    NaN              NaN             NaN      374.0  \n",
       " 1500                    NaN         440–540M            427.      460.0  \n",
       " 1600                    NaN              NaN            498.      579.0  \n",
       " 1650                   500.              NaN            516.      579.0  \n",
       " 1700                    NaN            1041.           1079.        NaN  \n",
       " 1750                   700.              NaN             NaN      770.0  \n",
       " 1800                   900.              NaN             NaN      985.0  \n",
       " 1820                    NaN              NaN             NaN     1093.0  \n",
       " 1850                  1200.              NaN             NaN     1278.0  \n",
       " 1870                    NaN              NaN             NaN     1347.0  \n",
       " 1875                    NaN              NaN             NaN     1383.0  \n",
       " 1900                  1600.     1,650–1,710M           1668.     1645.0  \n",
       " 1910                    NaN              NaN             NaN     1790.0  \n",
       " 1913                    NaN              NaN             NaN     1829.0  \n",
       " 1920                    NaN              NaN           1968.     1924.0  \n",
       " 1925                    NaN              NaN             NaN     2007.0  \n",
       " 1930                    NaN              NaN           2145.     2100.0  \n",
       " 1940                    NaN              NaN           2340.     2324.0  ,\n",
       "       United States Census Bureau (2017)[29]  \\\n",
       " Year                                           \n",
       " 1950                              2557628654   \n",
       " 1951                              2594939877   \n",
       " 1952                              2636772306   \n",
       " 1953                              2682053389   \n",
       " 1954                              2730228104   \n",
       " ...                                      ...   \n",
       " 2012                              7013871313   \n",
       " 2013                              7092128094   \n",
       " 2014                              7169968185   \n",
       " 2015                              7247892788   \n",
       " 2016                              7325996709   \n",
       " \n",
       "       Population Reference Bureau (1973–2016)[15]  \\\n",
       " Year                                                \n",
       " 1950                                 2.516000e+09   \n",
       " 1951                                          NaN   \n",
       " 1952                                          NaN   \n",
       " 1953                                          NaN   \n",
       " 1954                                          NaN   \n",
       " ...                                           ...   \n",
       " 2012                                 7.057075e+09   \n",
       " 2013                                 7.136796e+09   \n",
       " 2014                                 7.238184e+09   \n",
       " 2015                                 7.336435e+09   \n",
       " 2016                                 7.418152e+09   \n",
       " \n",
       "       United Nations Department of Economic and Social Affairs (2015)[16]  \\\n",
       " Year                                                                        \n",
       " 1950                                       2.525149e+09                     \n",
       " 1951                                       2.572851e+09                     \n",
       " 1952                                       2.619292e+09                     \n",
       " 1953                                       2.665865e+09                     \n",
       " 1954                                       2.713172e+09                     \n",
       " ...                                                 ...                     \n",
       " 2012                                       7.080072e+09                     \n",
       " 2013                                       7.162119e+09                     \n",
       " 2014                                       7.243784e+09                     \n",
       " 2015                                       7.349472e+09                     \n",
       " 2016                                                NaN                     \n",
       " \n",
       "       Maddison (2008)[17]  HYDE (2007)[25]  Tanton (1994)[19]  \\\n",
       " Year                                                            \n",
       " 1950         2.544000e+09     2.527960e+09       2.400000e+09   \n",
       " 1951         2.571663e+09              NaN                NaN   \n",
       " 1952         2.617949e+09              NaN                NaN   \n",
       " 1953         2.665959e+09              NaN                NaN   \n",
       " 1954         2.716927e+09              NaN                NaN   \n",
       " ...                   ...              ...                ...   \n",
       " 2012                  NaN              NaN                NaN   \n",
       " 2013                  NaN              NaN                NaN   \n",
       " 2014                  NaN              NaN                NaN   \n",
       " 2015                  NaN              NaN                NaN   \n",
       " 2016                  NaN              NaN                NaN   \n",
       " \n",
       "       Biraben (1980)[20]  McEvedy & Jones (1978)[21]  Thomlinson (1975)[22]  \\\n",
       " Year                                                                          \n",
       " 1950        2.527000e+09                2.500000e+09           2.400000e+09   \n",
       " 1951                 NaN                         NaN                    NaN   \n",
       " 1952                 NaN                         NaN                    NaN   \n",
       " 1953                 NaN                         NaN                    NaN   \n",
       " 1954                 NaN                         NaN                    NaN   \n",
       " ...                  ...                         ...                    ...   \n",
       " 2012                 NaN                         NaN                    NaN   \n",
       " 2013                 NaN                         NaN                    NaN   \n",
       " 2014                 NaN                         NaN                    NaN   \n",
       " 2015                 NaN                         NaN                    NaN   \n",
       " 2016                 NaN                         NaN                    NaN   \n",
       " \n",
       "      Durand (1974)[23]  Clark (1967)[24]  \n",
       " Year                                      \n",
       " 1950               NaN      2.486000e+09  \n",
       " 1951               NaN               NaN  \n",
       " 1952               NaN               NaN  \n",
       " 1953               NaN               NaN  \n",
       " 1954               NaN               NaN  \n",
       " ...                ...               ...  \n",
       " 2012               NaN               NaN  \n",
       " 2013               NaN               NaN  \n",
       " 2014               NaN               NaN  \n",
       " 2015               NaN               NaN  \n",
       " 2016               NaN               NaN  \n",
       " \n",
       " [67 rows x 11 columns],\n",
       "                                   1       1000       1500       1600  \\\n",
       " Year                                                                   \n",
       " Asia                      168 (74%)  183 (69%)  284 (65%)  379 (68%)   \n",
       " East Asia/Southeast Asia   74 (33%)   88 (33%)  166 (38%)  223 (40%)   \n",
       " South Asia                 75 (33%)   75 (28%)  110 (25%)  135 (24%)   \n",
       " Europe[31]                 34 (15%)   40 (15%)   78 (18%)  112 (20%)   \n",
       " West Asia                   19 (8%)    20 (7%)    18 (3%)    21 (3%)   \n",
       " Africa                      17 (8%)   32 (12%)   47 (11%)   55 (10%)   \n",
       " Central/South America        6 (3%)    11 (4%)    18 (4%)     9 (2%)   \n",
       " North America                1 (0%)     1 (0%)     2 (0%)     2 (0%)   \n",
       " Oceania                         0.4        0.4        0.6        0.6   \n",
       " World                           226        267        438        556   \n",
       " World growth p.a.               NaN      +0.0%      +0.1%      +0.2%   \n",
       " \n",
       "                                1700       1820       1913         2000  \\\n",
       " Year                                                                     \n",
       " Asia                      402 (67%)  710 (68%)  978 (55%)  3,605 (59%)   \n",
       " East Asia/Southeast Asia  216 (36%)  469 (45%)  613 (34%)  1,996 (33%)   \n",
       " South Asia                165 (27%)  216 (21%)  326 (18%)  1,372 (23%)   \n",
       " Europe[31]                127 (21%)  224 (21%)  498 (28%)    742 (13%)   \n",
       " West Asia                   21 (3%)    25 (2%)    39 (2%)     237 (4%)   \n",
       " Africa                     61 (10%)    74 (7%)   125 (7%)    798 (13%)   \n",
       " Central/South America       12 (2%)    22 (2%)    81 (5%)     520 (9%)   \n",
       " North America                1 (0%)    11 (1%)   105 (6%)     314 (5%)   \n",
       " Oceania                         0.6        0.4          5      23 (0%)   \n",
       " World                           603       1041       1791         6062   \n",
       " World growth p.a.             +0.1%      +0.5%      +0.6%        +1.4%   \n",
       " \n",
       "                                  2030  \n",
       " Year                                   \n",
       " Asia                      4,790 (59%)  \n",
       " East Asia/Southeast Asia  2,417 (30%)  \n",
       " South Asia                2,003 (25%)  \n",
       " Europe[31]                  829 (11%)  \n",
       " West Asia                    370 (5%)  \n",
       " Africa                    1,449 (18%)  \n",
       " Central/South America        702 (9%)  \n",
       " North America                413 (5%)  \n",
       " Oceania                       28 (0%)  \n",
       " World                            8175  \n",
       " World growth p.a.               +1.0%  ,\n",
       "                               1    1000    1500    1600    1700     1820  \\\n",
       " Year                                                                       \n",
       " Austria                     500     700    2000    2500    2500     3369   \n",
       " Belgium                     300     400    1400    1600    2000     3424   \n",
       " Denmark                     250     360     600     650     700     1155   \n",
       " Finland                     250     250     300     400     400     1169   \n",
       " France                     5000    6500   15000   18500   21471    31246   \n",
       " Germany                    3000    3500   12000   16000   15000    24905   \n",
       " Italy                      7000    6000   10500   13100   13300    20176   \n",
       " Netherlands                 200     300     950    1500    1900     2355   \n",
       " Norway                      250     400     300     400     500      970   \n",
       " Sweden                      250     350     700    1000    1260     2585   \n",
       " Switzerland                 150     300     650    1000    1200     1829   \n",
       " United Kingdom             1500    2000    3942    6170    8565    21226   \n",
       " 12 Countries Total        18000   24700   48192   62580   68796   114419   \n",
       " Portugal                    800     900    1000    1100    2000     3297   \n",
       " Spain                      4500    4000    6800    8240    8770    12203   \n",
       " Other                      2100    1113    1276    1858    1894     2969   \n",
       " Total Western Europe      25550   30413   57268   73778   81460   132888   \n",
       " Eastern Europe             7900    9000   18000   18000   18800    36415   \n",
       " Former USSR               18000   18000   18000   20700   26550    54765   \n",
       " United States               680    1300    2000    1500    1000     9981   \n",
       " Other Western Offshoots     490     660     800     800     750     1249   \n",
       " Total Western Offshoots    1170    1960    2800    2300    1750    11230   \n",
       " Mexico                    10000   10000   10000    2500    4500     6587   \n",
       " Other Latin America       10000   20000   30000    6100    7550    14633   \n",
       " Total Latin America       20000   30000   40000    8600   12050    21220   \n",
       " Japan                      3000    7500   15400   18500   27000    31000   \n",
       " China                     50000   59000  103000  160000  138000   381000   \n",
       " India                     60000   75000  110000  135000  165000   209000   \n",
       " Other Asia                66000   41400   55400   65000   71800    89366   \n",
       " Total Asia               179000  175400  268400  360000  374800   679366   \n",
       " Africa                    35000   33000   46000   55000   61000    74208   \n",
       " World                    300000  268273  437818  555828  603410  1041092   \n",
       " \n",
       "                             1870     1900     1950     1973  1998[32]  \n",
       " Year                                                                   \n",
       " Austria                     4520     6767     6935     7586      8078  \n",
       " Belgium                     5096     7666     8640     9738     10197  \n",
       " Denmark                     1888     2983     4269     5022      5303  \n",
       " Finland                     1754     3027     4009     4666      5153  \n",
       " France                     38440    41463    41836    52118     58805  \n",
       " Germany                    39231    65058    68371    78956     82029  \n",
       " Italy                      27888    37248    47105    54751     57592  \n",
       " Netherlands                 3615     6164    10114    13438     15700  \n",
       " Norway                      1735     2447     3265     3961      4432  \n",
       " Sweden                      4164     5621     7015     8137      8851  \n",
       " Switzerland                 2664     3864     4694     6441      7130  \n",
       " United Kingdom             31393    45649    50363    56223     59237  \n",
       " 12 Countries Total        162388   227957   256616   301037    322507  \n",
       " Portugal                    4353     6004     8512     8634      9968  \n",
       " Spain                      16201    20263    27868    34810     39371  \n",
       " Other                       4590     6783    12064    13909     16553  \n",
       " Total Western Europe      187532   261007   305060   358390    388399  \n",
       " Eastern Europe             52182    79604    87289   110490    121006  \n",
       " Former USSR                88672   156192   180050   249748    290866  \n",
       " United States              40241    97606   152271   212909    270561  \n",
       " Other Western Offshoots     5892    13795    23823    39036     52859  \n",
       " Total Western Offshoots    46133   111401   176094   250945    323420  \n",
       " Mexico                      9219    14970    28485    57643     98553  \n",
       " Other Latin America        30754    65545   137352   250807    409070  \n",
       " Total Latin America        39973    80515   165837   308450    507623  \n",
       " Japan                      34437    51672    83563   108660    126469  \n",
       " China                     358000   437140   546815   881940   1242700  \n",
       " India                     253000   303700   359000   580000    975000  \n",
       " Other Asia                119619   185092   392481   677214   1172243  \n",
       " Total Asia                730619   925932  1298296  2139154   3389943  \n",
       " Africa                     90466   124697   228342   387645    759954  \n",
       " World                    1270014  1791020  2524531  3913482   5907680  ,\n",
       "                                                    hide.mw-parser-output .navbar{display:inline;font-size:88%;font-weight:normal}.mw-parser-output .navbar-collapse{float:left;text-align:left}.mw-parser-output .navbar-boxtext{word-spacing:0}.mw-parser-output .navbar ul{display:inline-block;white-space:nowrap;line-height:inherit}.mw-parser-output .navbar-brackets::before{margin-right:-0.125em;content:\"[ \"}.mw-parser-output .navbar-brackets::after{margin-left:-0.125em;content:\" ]\"}.mw-parser-output .navbar li{word-spacing:-0.125em}.mw-parser-output .navbar a>span,.mw-parser-output .navbar a>abbr{text-decoration:inherit}.mw-parser-output .navbar-mini abbr{font-variant:small-caps;border-bottom:none;text-decoration:none;cursor:inherit}.mw-parser-output .navbar-ct-full{font-size:114%;margin:0 7em}.mw-parser-output .navbar-ct-mini{font-size:114%;margin:0 4em}vtePopulation.1\n",
       " hide.mw-parser-output .navbar{display:inline;fo...                                                                                                                                                                                                                                                                                                                                                                                                                                                                                                                                                                                                                                                                                                                                                                                                                                                            \n",
       " Major topics                                        Demographics of the world Demographic transiti...                                                                                                                                                                                                                                                                                                                                                                                                                                                                                                                                                                                                                                                                                                                                                                                                         \n",
       " Populationbiology                                   Population decline Population density Physiolo...                                                                                                                                                                                                                                                                                                                                                                                                                                                                                                                                                                                                                                                                                                                                                                                                         \n",
       " Populationecology                                   Biocapacity Carrying capacity Earth's energy b...                                                                                                                                                                                                                                                                                                                                                                                                                                                                                                                                                                                                                                                                                                                                                                                                         \n",
       " Society and population                              Eugenics Dysgenics Human overpopulation Malthu...                                                                                                                                                                                                                                                                                                                                                                                                                                                                                                                                                                                                                                                                                                                                                                                                         \n",
       " Publications                                        Population and Environment Population and Deve...                                                                                                                                                                                                                                                                                                                                                                                                                                                                                                                                                                                                                                                                                                                                                                                                         \n",
       " Lists                                               Population and housing censuses by country Lar...                                                                                                                                                                                                                                                                                                                                                                                                                                                                                                                                                                                                                                                                                                                                                                                                         \n",
       " Events andorganizations                             7 Billion Actions Church of Euthanasia Interna...                                                                                                                                                                                                                                                                                                                                                                                                                                                                                                                                                                                                                                                                                                                                                                                                         \n",
       " Related topics                                      Bennett's law Green Revolution Human impact on...                                                                                                                                                                                                                                                                                                                                                                                                                                                                                                                                                                                                                                                                                                                                                                                                         \n",
       " Commons  Category                                                                   Commons  Category                                                                                                                                                                                                                                                                                                                                                                                                                                                                                                                                                                                                                                                                                                                                                                                                         ]"
      ]
     },
     "execution_count": 3,
     "metadata": {},
     "output_type": "execute_result"
    }
   ],
   "source": [
    "tables"
   ]
  },
  {
   "cell_type": "code",
   "execution_count": 4,
   "id": "3d967d59-aa9f-47ca-a1a2-757155cce1a7",
   "metadata": {},
   "outputs": [
    {
     "data": {
      "text/html": [
       "<div>\n",
       "<style scoped>\n",
       "    .dataframe tbody tr th:only-of-type {\n",
       "        vertical-align: middle;\n",
       "    }\n",
       "\n",
       "    .dataframe tbody tr th {\n",
       "        vertical-align: top;\n",
       "    }\n",
       "\n",
       "    .dataframe thead th {\n",
       "        text-align: right;\n",
       "    }\n",
       "</style>\n",
       "<table border=\"1\" class=\"dataframe\">\n",
       "  <thead>\n",
       "    <tr style=\"text-align: right;\">\n",
       "      <th></th>\n",
       "      <th>United States Census Bureau (2017)[29]</th>\n",
       "      <th>Population Reference Bureau (1973–2016)[15]</th>\n",
       "      <th>United Nations Department of Economic and Social Affairs (2015)[16]</th>\n",
       "      <th>Maddison (2008)[17]</th>\n",
       "      <th>HYDE (2007)[25]</th>\n",
       "      <th>Tanton (1994)[19]</th>\n",
       "      <th>Biraben (1980)[20]</th>\n",
       "      <th>McEvedy &amp; Jones (1978)[21]</th>\n",
       "      <th>Thomlinson (1975)[22]</th>\n",
       "      <th>Durand (1974)[23]</th>\n",
       "      <th>Clark (1967)[24]</th>\n",
       "    </tr>\n",
       "    <tr>\n",
       "      <th>Year</th>\n",
       "      <th></th>\n",
       "      <th></th>\n",
       "      <th></th>\n",
       "      <th></th>\n",
       "      <th></th>\n",
       "      <th></th>\n",
       "      <th></th>\n",
       "      <th></th>\n",
       "      <th></th>\n",
       "      <th></th>\n",
       "      <th></th>\n",
       "    </tr>\n",
       "  </thead>\n",
       "  <tbody>\n",
       "    <tr>\n",
       "      <th>1950</th>\n",
       "      <td>2557628654</td>\n",
       "      <td>2.516000e+09</td>\n",
       "      <td>2.525149e+09</td>\n",
       "      <td>2.544000e+09</td>\n",
       "      <td>2.527960e+09</td>\n",
       "      <td>2.400000e+09</td>\n",
       "      <td>2.527000e+09</td>\n",
       "      <td>2.500000e+09</td>\n",
       "      <td>2.400000e+09</td>\n",
       "      <td>NaN</td>\n",
       "      <td>2.486000e+09</td>\n",
       "    </tr>\n",
       "    <tr>\n",
       "      <th>1951</th>\n",
       "      <td>2594939877</td>\n",
       "      <td>NaN</td>\n",
       "      <td>2.572851e+09</td>\n",
       "      <td>2.571663e+09</td>\n",
       "      <td>NaN</td>\n",
       "      <td>NaN</td>\n",
       "      <td>NaN</td>\n",
       "      <td>NaN</td>\n",
       "      <td>NaN</td>\n",
       "      <td>NaN</td>\n",
       "      <td>NaN</td>\n",
       "    </tr>\n",
       "    <tr>\n",
       "      <th>1952</th>\n",
       "      <td>2636772306</td>\n",
       "      <td>NaN</td>\n",
       "      <td>2.619292e+09</td>\n",
       "      <td>2.617949e+09</td>\n",
       "      <td>NaN</td>\n",
       "      <td>NaN</td>\n",
       "      <td>NaN</td>\n",
       "      <td>NaN</td>\n",
       "      <td>NaN</td>\n",
       "      <td>NaN</td>\n",
       "      <td>NaN</td>\n",
       "    </tr>\n",
       "    <tr>\n",
       "      <th>1953</th>\n",
       "      <td>2682053389</td>\n",
       "      <td>NaN</td>\n",
       "      <td>2.665865e+09</td>\n",
       "      <td>2.665959e+09</td>\n",
       "      <td>NaN</td>\n",
       "      <td>NaN</td>\n",
       "      <td>NaN</td>\n",
       "      <td>NaN</td>\n",
       "      <td>NaN</td>\n",
       "      <td>NaN</td>\n",
       "      <td>NaN</td>\n",
       "    </tr>\n",
       "    <tr>\n",
       "      <th>1954</th>\n",
       "      <td>2730228104</td>\n",
       "      <td>NaN</td>\n",
       "      <td>2.713172e+09</td>\n",
       "      <td>2.716927e+09</td>\n",
       "      <td>NaN</td>\n",
       "      <td>NaN</td>\n",
       "      <td>NaN</td>\n",
       "      <td>NaN</td>\n",
       "      <td>NaN</td>\n",
       "      <td>NaN</td>\n",
       "      <td>NaN</td>\n",
       "    </tr>\n",
       "  </tbody>\n",
       "</table>\n",
       "</div>"
      ],
      "text/plain": [
       "      United States Census Bureau (2017)[29]  \\\n",
       "Year                                           \n",
       "1950                              2557628654   \n",
       "1951                              2594939877   \n",
       "1952                              2636772306   \n",
       "1953                              2682053389   \n",
       "1954                              2730228104   \n",
       "\n",
       "      Population Reference Bureau (1973–2016)[15]  \\\n",
       "Year                                                \n",
       "1950                                 2.516000e+09   \n",
       "1951                                          NaN   \n",
       "1952                                          NaN   \n",
       "1953                                          NaN   \n",
       "1954                                          NaN   \n",
       "\n",
       "      United Nations Department of Economic and Social Affairs (2015)[16]  \\\n",
       "Year                                                                        \n",
       "1950                                       2.525149e+09                     \n",
       "1951                                       2.572851e+09                     \n",
       "1952                                       2.619292e+09                     \n",
       "1953                                       2.665865e+09                     \n",
       "1954                                       2.713172e+09                     \n",
       "\n",
       "      Maddison (2008)[17]  HYDE (2007)[25]  Tanton (1994)[19]  \\\n",
       "Year                                                            \n",
       "1950         2.544000e+09     2.527960e+09       2.400000e+09   \n",
       "1951         2.571663e+09              NaN                NaN   \n",
       "1952         2.617949e+09              NaN                NaN   \n",
       "1953         2.665959e+09              NaN                NaN   \n",
       "1954         2.716927e+09              NaN                NaN   \n",
       "\n",
       "      Biraben (1980)[20]  McEvedy & Jones (1978)[21]  Thomlinson (1975)[22]  \\\n",
       "Year                                                                          \n",
       "1950        2.527000e+09                2.500000e+09           2.400000e+09   \n",
       "1951                 NaN                         NaN                    NaN   \n",
       "1952                 NaN                         NaN                    NaN   \n",
       "1953                 NaN                         NaN                    NaN   \n",
       "1954                 NaN                         NaN                    NaN   \n",
       "\n",
       "     Durand (1974)[23]  Clark (1967)[24]  \n",
       "Year                                      \n",
       "1950               NaN      2.486000e+09  \n",
       "1951               NaN               NaN  \n",
       "1952               NaN               NaN  \n",
       "1953               NaN               NaN  \n",
       "1954               NaN               NaN  "
      ]
     },
     "execution_count": 4,
     "metadata": {},
     "output_type": "execute_result"
    }
   ],
   "source": [
    "table2 = tables[2]\n",
    "table2.head()"
   ]
  },
  {
   "cell_type": "code",
   "execution_count": 5,
   "id": "89cf4df0-2fc8-4bbe-afb3-e38ab810eded",
   "metadata": {},
   "outputs": [],
   "source": [
    "table2.columns = ['census', 'prb', 'un', 'maddison',\n",
    "'hyde', 'tanton', 'biraben', 'mj',\n",
    "'thomlinson', 'durand', 'clark']"
   ]
  },
  {
   "cell_type": "code",
   "execution_count": 6,
   "id": "b7693e83-274e-4bf7-a1aa-269cb1f3ef9e",
   "metadata": {},
   "outputs": [],
   "source": [
    "census = table2['census']/1e9"
   ]
  },
  {
   "cell_type": "code",
   "execution_count": 7,
   "id": "a55bd62d-e1c3-461f-929e-720140bbcac0",
   "metadata": {},
   "outputs": [
    {
     "data": {
      "text/plain": [
       "Year\n",
       "2012    7.013871\n",
       "2013    7.092128\n",
       "2014    7.169968\n",
       "2015    7.247893\n",
       "2016    7.325997\n",
       "Name: census, dtype: float64"
      ]
     },
     "execution_count": 7,
     "metadata": {},
     "output_type": "execute_result"
    }
   ],
   "source": [
    "census.tail()"
   ]
  },
  {
   "cell_type": "code",
   "execution_count": 8,
   "id": "e47554f4-fe29-41b3-9a59-da53ca0e1350",
   "metadata": {},
   "outputs": [
    {
     "data": {
      "text/plain": [
       "Year\n",
       "2012    7.080072\n",
       "2013    7.162119\n",
       "2014    7.243784\n",
       "2015    7.349472\n",
       "2016         NaN\n",
       "Name: un, dtype: float64"
      ]
     },
     "execution_count": 8,
     "metadata": {},
     "output_type": "execute_result"
    }
   ],
   "source": [
    "un = table2['un']/1e9\n",
    "un.tail()"
   ]
  },
  {
   "cell_type": "code",
   "execution_count": 9,
   "id": "bc07a177-882c-42c3-a33e-a5dde48840a2",
   "metadata": {},
   "outputs": [],
   "source": [
    "def plot_estimates():\n",
    "    census.plot(style=':', label='US Census')\n",
    "    un.plot(style='--', label='UN DESA')\n",
    "    decorate(xlabel='Year', ylabel='World population (billions)')"
   ]
  },
  {
   "cell_type": "code",
   "execution_count": 14,
   "id": "fdbd4e63-e2a7-4e59-b2f2-208aa1d982b6",
   "metadata": {},
   "outputs": [
    {
     "data": {
      "image/png": "[encoded data removed]",
      "text/plain": [
       "<Figure size 432x288 with 1 Axes>"
      ]
     },
     "metadata": {},
     "output_type": "display_data"
    }
   ],
   "source": [
    "from modsim import *\n",
    "plot_estimates()\n",
    "decorate(title='World population estimates')"
   ]
  },
  {
   "cell_type": "code",
   "execution_count": 15,
   "id": "e2b8bc8a-f723-4e1e-9997-b957ead787cc",
   "metadata": {},
   "outputs": [
    {
     "data": {
      "text/plain": [
       "Year\n",
       "2012    0.066201\n",
       "2013    0.069991\n",
       "2014    0.073816\n",
       "2015    0.101579\n",
       "2016         NaN\n",
       "dtype: float64"
      ]
     },
     "execution_count": 15,
     "metadata": {},
     "output_type": "execute_result"
    }
   ],
   "source": [
    "from numpy import abs\n",
    "abs_error = abs(un-census)\n",
    "abs_error.tail()"
   ]
  },
  {
   "cell_type": "code",
   "execution_count": 16,
   "id": "5b2c0dea-d52c-4037-9d3f-0ac19592e3bd",
   "metadata": {},
   "outputs": [
    {
     "data": {
      "text/plain": [
       "0.029034508242424265"
      ]
     },
     "execution_count": 16,
     "metadata": {},
     "output_type": "execute_result"
    }
   ],
   "source": [
    "from numpy import mean\n",
    "mean(abs_error)"
   ]
  },
  {
   "cell_type": "code",
   "execution_count": 17,
   "id": "b18d3346-6c38-4c6b-8859-a7523bc16efd",
   "metadata": {},
   "outputs": [
    {
     "data": {
      "text/plain": [
       "0.10157921199999986"
      ]
     },
     "execution_count": 17,
     "metadata": {},
     "output_type": "execute_result"
    }
   ],
   "source": [
    "max(abs_error)"
   ]
  },
  {
   "cell_type": "code",
   "execution_count": 18,
   "id": "fefb5ef8-a62f-40e2-adb1-32a0e6d9edfc",
   "metadata": {},
   "outputs": [
    {
     "data": {
      "text/plain": [
       "Year\n",
       "2012    0.943860\n",
       "2013    0.986888\n",
       "2014    1.029514\n",
       "2015    1.401500\n",
       "2016         NaN\n",
       "dtype: float64"
      ]
     },
     "execution_count": 18,
     "metadata": {},
     "output_type": "execute_result"
    }
   ],
   "source": [
    "rel_error = 100*abs_error/census\n",
    "rel_error.tail()"
   ]
  },
  {
   "cell_type": "code",
   "execution_count": 19,
   "id": "a7e3e76a-b3a3-413d-9b0e-495725daf41a",
   "metadata": {},
   "outputs": [
    {
     "data": {
      "text/plain": [
       "0.5946585816022846"
      ]
     },
     "execution_count": 19,
     "metadata": {},
     "output_type": "execute_result"
    }
   ],
   "source": [
    "mean(rel_error)"
   ]
  },
  {
   "cell_type": "code",
   "execution_count": 21,
   "id": "98e82e0a-a67f-4064-90ae-6402cc5293aa",
   "metadata": {},
   "outputs": [],
   "source": [
    "total_growth = census[2016] - census[1950]"
   ]
  },
  {
   "cell_type": "code",
   "execution_count": 22,
   "id": "6433f12c-3748-4b2e-89f1-6ec745cd2678",
   "metadata": {},
   "outputs": [],
   "source": [
    "elapsed_time = census.index[-1] - census.index[0]"
   ]
  },
  {
   "cell_type": "code",
   "execution_count": 25,
   "id": "03dc4e88-e39f-42ea-ae9e-d86e3c82eb94",
   "metadata": {},
   "outputs": [],
   "source": [
    "p_0 = census[census.index[0]]\n",
    "p_end = census[census.index[-1]]"
   ]
  },
  {
   "cell_type": "code",
   "execution_count": 26,
   "id": "ab2eb753-91e1-43ee-b6af-85a83e3f103a",
   "metadata": {},
   "outputs": [],
   "source": [
    "annual_growth = total_growth/elapsed_time"
   ]
  },
  {
   "cell_type": "code",
   "execution_count": 27,
   "id": "e99b434f-37ce-4694-8df2-45153e895b58",
   "metadata": {},
   "outputs": [
    {
     "data": {
      "text/plain": [
       "0.07224800083333333"
      ]
     },
     "execution_count": 27,
     "metadata": {},
     "output_type": "execute_result"
    }
   ],
   "source": [
    "annual_growth"
   ]
  },
  {
   "cell_type": "code",
   "execution_count": 28,
   "id": "0168c9a3-59e6-4352-a4ba-892a793c9e49",
   "metadata": {},
   "outputs": [],
   "source": [
    "results = TimeSeries()"
   ]
  },
  {
   "cell_type": "code",
   "execution_count": 31,
   "id": "a9a87a35-a654-4841-b273-c37da26a1a8d",
   "metadata": {},
   "outputs": [
    {
     "data": {
      "text/html": [
       "<div>\n",
       "<style scoped>\n",
       "    .dataframe tbody tr th:only-of-type {\n",
       "        vertical-align: middle;\n",
       "    }\n",
       "\n",
       "    .dataframe tbody tr th {\n",
       "        vertical-align: top;\n",
       "    }\n",
       "\n",
       "    .dataframe thead th {\n",
       "        text-align: right;\n",
       "    }\n",
       "</style>\n",
       "<table border=\"1\" class=\"dataframe\">\n",
       "  <thead>\n",
       "    <tr style=\"text-align: right;\">\n",
       "      <th></th>\n",
       "      <th>values</th>\n",
       "    </tr>\n",
       "  </thead>\n",
       "  <tbody>\n",
       "    <tr>\n",
       "      <th>1950</th>\n",
       "      <td>2.557629</td>\n",
       "    </tr>\n",
       "  </tbody>\n",
       "</table>\n",
       "</div>"
      ],
      "text/plain": [
       "1950    2.557629\n",
       "dtype: float64"
      ]
     },
     "execution_count": 31,
     "metadata": {},
     "output_type": "execute_result"
    }
   ],
   "source": [
    "results[census.index[0]] = p_0\n",
    "results"
   ]
  },
  {
   "cell_type": "code",
   "execution_count": 33,
   "id": "2a934028-8d99-4207-b7a7-90764dafdc36",
   "metadata": {},
   "outputs": [],
   "source": [
    "for t in range(census.index[0], census.index[-1]):\n",
    "    results[t+1] = results[t] + annual_growth"
   ]
  },
  {
   "cell_type": "code",
   "execution_count": 36,
   "id": "7577fbee-ca54-4754-a6b8-fd510ad72cf1",
   "metadata": {},
   "outputs": [
    {
     "data": {
      "image/png": "[encoded data removed]",
      "text/plain": [
       "<Figure size 432x288 with 1 Axes>"
      ]
     },
     "metadata": {},
     "output_type": "display_data"
    }
   ],
   "source": [
    "results.plot(color='gray', label='model')\n",
    "plot_estimates()\n",
    "decorate(title='Constant growth model')"
   ]
  },
  {
   "cell_type": "code",
   "execution_count": null,
   "id": "75a87b86-b520-4991-972a-d5e3aad0b134",
   "metadata": {},
   "outputs": [],
   "source": []
  }
 ],
 "metadata": {
  "kernelspec": {
   "display_name": "Python 3 (ipykernel)",
   "language": "python",
   "name": "python3"
  },
  "language_info": {
   "codemirror_mode": {
    "name": "ipython",
    "version": 3
   },
   "file_extension": ".py",
   "mimetype": "text/x-python",
   "name": "python",
   "nbconvert_exporter": "python",
   "pygments_lexer": "ipython3",
   "version": "3.10.2"
  }
 },
 "nbformat": 4,
 "nbformat_minor": 5
}
